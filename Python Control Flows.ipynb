{
 "cells": [
  {
   "cell_type": "markdown",
   "metadata": {},
   "source": [
    "# Python if...elif...else Statement"
   ]
  },
  {
   "cell_type": "code",
   "execution_count": 1,
   "metadata": {},
   "outputs": [],
   "source": [
    "# if...elif..else statement is used in Python for decision making"
   ]
  },
  {
   "cell_type": "markdown",
   "metadata": {},
   "source": [
    "# if statement syntax\n"
   ]
  },
  {
   "cell_type": "code",
   "execution_count": 1,
   "metadata": {},
   "outputs": [
    {
     "name": "stdout",
     "output_type": "stream",
     "text": [
      "This will print always\n"
     ]
    }
   ],
   "source": [
    "# if test expression:\n",
    "#    statement(s)\n",
    "num = 10\n",
    "if num > 10:\n",
    "    print(\"Number is Positive\") # indentated\n",
    "print(\"This will print always\")    \n",
    "    "
   ]
  },
  {
   "cell_type": "code",
   "execution_count": 2,
   "metadata": {},
   "outputs": [
    {
     "name": "stdout",
     "output_type": "stream",
     "text": [
      "This will print always\n"
     ]
    }
   ],
   "source": [
    "# 0 , None , False are all considered as False & everything are all considered as True.\n",
    "\n",
    "num1 = 20\n",
    "if None:\n",
    "    print(\"Number is Positive\") # skips the if condition block\n",
    "print(\"This will print always\")   "
   ]
  },
  {
   "cell_type": "code",
   "execution_count": 3,
   "metadata": {},
   "outputs": [
    {
     "name": "stdout",
     "output_type": "stream",
     "text": [
      "This will print always\n"
     ]
    }
   ],
   "source": [
    "num1 = 20\n",
    "if 0:\n",
    "    print(\"Number is Positive\") # skips the if condition block\n",
    "print(\"This will print always\")   "
   ]
  },
  {
   "cell_type": "code",
   "execution_count": 4,
   "metadata": {},
   "outputs": [
    {
     "name": "stdout",
     "output_type": "stream",
     "text": [
      "This will print always\n"
     ]
    }
   ],
   "source": [
    "num1 = 20\n",
    "if False:\n",
    "    print(\"Number is Positive\") # skips the if condition block\n",
    "print(\"This will print always\")   "
   ]
  },
  {
   "cell_type": "code",
   "execution_count": 5,
   "metadata": {},
   "outputs": [
    {
     "name": "stdout",
     "output_type": "stream",
     "text": [
      "Number is Positive\n",
      "This will print always\n"
     ]
    }
   ],
   "source": [
    "num1 = 20\n",
    "if -1:\n",
    "    print(\"Number is Positive\") # Prints both as its all True\n",
    "print(\"This will print always\")   "
   ]
  },
  {
   "cell_type": "code",
   "execution_count": 6,
   "metadata": {},
   "outputs": [
    {
     "name": "stdout",
     "output_type": "stream",
     "text": [
      "Positive Number\n"
     ]
    }
   ],
   "source": [
    "num2 = 25\n",
    "if num2 > 0:\n",
    "    print(\"Positive Number\")\n",
    "else:\n",
    "    print(\"Negative Number\")"
   ]
  },
  {
   "cell_type": "code",
   "execution_count": 10,
   "metadata": {},
   "outputs": [
    {
     "name": "stdout",
     "output_type": "stream",
     "text": [
      "Negative Number\n"
     ]
    }
   ],
   "source": [
    "num2 = -1\n",
    "if num2 > 0:\n",
    "    print(\"Positive Number\")\n",
    "elif num2==0:\n",
    "    print(\"Zero\")\n",
    "else:\n",
    "    print(\"Negative Number\")"
   ]
  },
  {
   "cell_type": "markdown",
   "metadata": {},
   "source": [
    "# Nested if else"
   ]
  },
  {
   "cell_type": "code",
   "execution_count": 11,
   "metadata": {},
   "outputs": [
    {
     "name": "stdout",
     "output_type": "stream",
     "text": [
      "Positive Number\n"
     ]
    }
   ],
   "source": [
    "num3 = 35\n",
    "if num3 >=0:\n",
    "    if num == 0:\n",
    "        print(\"Zero\")\n",
    "    else:\n",
    "        print(\"Positive Number\")\n",
    "else:\n",
    "    print(\"Negative Number\")"
   ]
  },
  {
   "cell_type": "code",
   "execution_count": 12,
   "metadata": {},
   "outputs": [
    {
     "name": "stdout",
     "output_type": "stream",
     "text": [
      "Num3 is largest\n"
     ]
    }
   ],
   "source": [
    "num1 = 10\n",
    "num2 = 20\n",
    "num3 = 30\n",
    "if (num1 >= num2) and (num1 >= num3):\n",
    "    print(\"Num1 is largest\")\n",
    "elif (num2 >= num1) and (num2 >= num3):\n",
    "    print(\"Num2 is largest\")\n",
    "else:\n",
    "    print(\"Num3 is largest\")\n"
   ]
  },
  {
   "cell_type": "markdown",
   "metadata": {},
   "source": [
    "# Python While Loop"
   ]
  },
  {
   "cell_type": "code",
   "execution_count": 13,
   "metadata": {},
   "outputs": [],
   "source": [
    "# While loop is used to iterate over block of code as long as the test expression(condition) is true"
   ]
  },
  {
   "cell_type": "markdown",
   "metadata": {},
   "source": [
    "# Syntax"
   ]
  },
  {
   "cell_type": "code",
   "execution_count": 14,
   "metadata": {},
   "outputs": [],
   "source": [
    "# while test_expression:\n",
    "# Body of while"
   ]
  },
  {
   "cell_type": "code",
   "execution_count": 15,
   "metadata": {},
   "outputs": [
    {
     "name": "stdout",
     "output_type": "stream",
     "text": [
      "1\n",
      "2\n",
      "3\n",
      "4\n",
      "5\n",
      "No item left in the list\n"
     ]
    }
   ],
   "source": [
    "number = [1,2,3,4,5]\n",
    "index = 0\n",
    "while index < len(number):\n",
    "    print(number[index])\n",
    "    index = index+1\n",
    "else:\n",
    "    print(\"No item left in the list\")"
   ]
  },
  {
   "cell_type": "markdown",
   "metadata": {},
   "source": [
    "# Python for Loop"
   ]
  },
  {
   "cell_type": "code",
   "execution_count": 16,
   "metadata": {},
   "outputs": [],
   "source": [
    "# for loop in Python is used to iterate over a sequence (list,tuple,string) or other iterable objects.\n",
    "# Iterating over a sequence is called Traversal"
   ]
  },
  {
   "cell_type": "markdown",
   "metadata": {},
   "source": [
    "# Syntax"
   ]
  },
  {
   "cell_type": "code",
   "execution_count": 17,
   "metadata": {},
   "outputs": [],
   "source": [
    "# for test in sequence: in is the keyword\n",
    "  # Body "
   ]
  },
  {
   "cell_type": "code",
   "execution_count": 18,
   "metadata": {},
   "outputs": [
    {
     "name": "stdout",
     "output_type": "stream",
     "text": [
      "The product is: 12000000\n"
     ]
    }
   ],
   "source": [
    "# find product of all numbers in the list\n",
    "list = [10,20,30,40,50]\n",
    "product = 1 # initializing to start multiplying 1 * 10\n",
    "for i in list:\n",
    "    product = product * i  # can be written as product *= i\n",
    "print(\"The product is: {}\".format(product))    "
   ]
  },
  {
   "cell_type": "markdown",
   "metadata": {},
   "source": [
    "# range() function"
   ]
  },
  {
   "cell_type": "code",
   "execution_count": 19,
   "metadata": {},
   "outputs": [],
   "source": [
    "# We generate a sequence of numbers using range() function like range(10) generates 0 to 9\n",
    "# we can also define start,stop & step size for range...Step size defaults to 1\n",
    "# range function does not stores all values in memory"
   ]
  },
  {
   "cell_type": "code",
   "execution_count": 20,
   "metadata": {},
   "outputs": [
    {
     "name": "stdout",
     "output_type": "stream",
     "text": [
      "0\n",
      "1\n",
      "2\n",
      "3\n",
      "4\n",
      "5\n",
      "6\n",
      "7\n",
      "8\n",
      "9\n"
     ]
    }
   ],
   "source": [
    "for i in range(10):\n",
    "    print(i)"
   ]
  },
  {
   "cell_type": "code",
   "execution_count": 21,
   "metadata": {},
   "outputs": [
    {
     "name": "stdout",
     "output_type": "stream",
     "text": [
      "1\n",
      "3\n",
      "5\n",
      "7\n",
      "9\n",
      "11\n",
      "13\n",
      "15\n",
      "17\n",
      "19\n"
     ]
    }
   ],
   "source": [
    "for j in range(1,20,2): # range 1 to 20 i.e 1 to 19 with step size 2 ie skips\n",
    "    print(j) # Start 1 Stop 19 Step Size 2"
   ]
  },
  {
   "cell_type": "markdown",
   "metadata": {},
   "source": [
    "# Python break and continue Statements"
   ]
  },
  {
   "cell_type": "code",
   "execution_count": 22,
   "metadata": {},
   "outputs": [],
   "source": [
    "# used to alter the flow of a normal loop"
   ]
  },
  {
   "cell_type": "code",
   "execution_count": 23,
   "metadata": {},
   "outputs": [
    {
     "name": "stdout",
     "output_type": "stream",
     "text": [
      "outside of for loop\n"
     ]
    }
   ],
   "source": [
    "numbers1 = [1,2,3,4]\n",
    "for i in numbers1:\n",
    "    if i==4:\n",
    "        break # when i==4 it comes out of for/else block\n",
    "        print(i)\n",
    "else:\n",
    "    print(\"in the else-block\")\n",
    "print(\"outside of for loop\")    "
   ]
  },
  {
   "cell_type": "code",
   "execution_count": null,
   "metadata": {},
   "outputs": [],
   "source": []
  }
 ],
 "metadata": {
  "kernelspec": {
   "display_name": "Python 3",
   "language": "python",
   "name": "python3"
  },
  "language_info": {
   "codemirror_mode": {
    "name": "ipython",
    "version": 3
   },
   "file_extension": ".py",
   "mimetype": "text/x-python",
   "name": "python",
   "nbconvert_exporter": "python",
   "pygments_lexer": "ipython3",
   "version": "3.8.5"
  }
 },
 "nbformat": 4,
 "nbformat_minor": 4
}
